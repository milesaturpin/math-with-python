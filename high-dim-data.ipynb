{
 "cells": [
  {
   "cell_type": "markdown",
   "metadata": {},
   "source": [
    "# Math 465 - High Dimensional Data"
   ]
  },
  {
   "cell_type": "markdown",
   "metadata": {},
   "source": [
    "Things to implement\n",
    "- PCA\n",
    "- Multidimensional Scaling\n",
    "- Isomap\n",
    "- Multiplication by a random matrix i.e. Johnson Lindenstrauss\n",
    "- Compressed Sensing\n",
    "- Kmeans clustering\n",
    "- Spectral clustering\n",
    "- Hierarchical clustering\n",
    "- Page Rank\n",
    "\n",
    "\n",
    "\n",
    "Helper functions\n",
    "- Get the eigenvalues and eigenvectors of a matrix\n",
    "- \n",
    "\n",
    "Helper classes\n",
    "- Vector\n",
    "- "
   ]
  },
  {
   "cell_type": "code",
   "execution_count": 3,
   "metadata": {},
   "outputs": [],
   "source": [
    "import numpy as np\n",
    "from numpy.linalg import norm \n",
    "import scipy as sp\n",
    "import pandas as pd\n",
    "import matplotlib.pyplot as plt\n",
    "import matplotlib\n",
    "import networkx as nx\n",
    "matplotlib.style.use('seaborn')"
   ]
  },
  {
   "cell_type": "markdown",
   "metadata": {},
   "source": [
    "## Principal Component Analysis"
   ]
  },
  {
   "cell_type": "code",
   "execution_count": 3,
   "metadata": {},
   "outputs": [],
   "source": [
    "A = np.random.randn(10,10)\n",
    "v = np.random.randn(10,1)\n",
    "w = np.random.randn(10,1)\n"
   ]
  },
  {
   "cell_type": "code",
   "execution_count": 17,
   "metadata": {},
   "outputs": [
    {
     "data": {
      "text/plain": [
       "array([[<matplotlib.axes._subplots.AxesSubplot object at 0x11de58940>,\n",
       "        <matplotlib.axes._subplots.AxesSubplot object at 0x11d6f5c88>],\n",
       "       [<matplotlib.axes._subplots.AxesSubplot object at 0x11d2506a0>,\n",
       "        <matplotlib.axes._subplots.AxesSubplot object at 0x11de3a438>],\n",
       "       [<matplotlib.axes._subplots.AxesSubplot object at 0x11d58cb00>,\n",
       "        <matplotlib.axes._subplots.AxesSubplot object at 0x11e1cd208>]],\n",
       "      dtype=object)"
      ]
     },
     "execution_count": 17,
     "metadata": {},
     "output_type": "execute_result"
    },
    {
     "data": {
      "image/png": "[encoded data removed]",
      "text/plain": [
       "<Figure size 864x648 with 6 Axes>"
      ]
     },
     "metadata": {
      "needs_background": "light"
     },
     "output_type": "display_data"
    }
   ],
   "source": [
    "(pd.DataFrame([[norm(np.random.randn(p,1))**2 for _ in range(10000)] for p in [2**i for i in range(2,8)]]).T\n",
    " .plot.hist(bins=100, subplots=True, layout=(-1,2), figsize=(12,9), title='Chi Square', sharey=True)\n",
    ")\n"
   ]
  },
  {
   "cell_type": "markdown",
   "metadata": {},
   "source": [
    "## Spectral Clustering"
   ]
  },
  {
   "cell_type": "code",
   "execution_count": 43,
   "metadata": {},
   "outputs": [
    {
     "name": "stdout",
     "output_type": "stream",
     "text": [
      "Original Network:\n",
      "[[0. 0. 0. 1. 0.]\n",
      " [0. 0. 1. 1. 1.]\n",
      " [0. 1. 0. 1. 0.]\n",
      " [1. 1. 1. 0. 0.]\n",
      " [0. 1. 0. 0. 0.]]\n",
      "\n",
      "\n"
     ]
    },
    {
     "data": {
      "image/png": "[encoded data removed]",
      "text/plain": [
       "<Figure size 504x360 with 1 Axes>"
      ]
     },
     "metadata": {},
     "output_type": "display_data"
    }
   ],
   "source": [
    "size = 5\n",
    "sparsity = 0.15\n",
    "#A = np.ceil(sp.sparse.rand(size, size, sparsity).todense())\n",
    "G = nx.generators.erdos_renyi_graph(size, 0.4)\n",
    "A = nx.to_numpy_matrix(G)\n",
    "print('Original Network:')\n",
    "print(A.round(3))\n",
    "print('\\n')\n",
    "# Plotting\n",
    "# Plot convergence\n",
    "fig1, ax = plt.subplots(1,1,figsize=(7,5))\n",
    "pos = nx.layout.spring_layout(G, iterations=10)\n",
    "nx.draw_networkx_nodes(G, pos, node_color='Red', ax=ax, node_size=200)\n",
    "nx.draw_networkx_edges(G, pos, node_size=200, alpha=0.4,\n",
    "                       arrowsize=15, width=1, ax=ax)\n",
    "ax.set_axis_off()\n",
    "plt.show()"
   ]
  },
  {
   "cell_type": "code",
   "execution_count": 77,
   "metadata": {},
   "outputs": [
    {
     "name": "stdout",
     "output_type": "stream",
     "text": [
      "[[0. 0. 0. 1. 0.]\n",
      " [0. 0. 1. 1. 1.]\n",
      " [0. 1. 0. 1. 0.]\n",
      " [1. 1. 1. 0. 0.]\n",
      " [0. 1. 0. 0. 0.]]\n",
      "[[ 1  0  0 -1  0]\n",
      " [ 0  3 -1 -1 -1]\n",
      " [ 0 -1  2 -1  0]\n",
      " [-1 -1 -1  3  0]\n",
      " [ 0 -1  0  0  1]]\n",
      "[[ 1.    0.    0.   -0.58  0.  ]\n",
      " [ 0.    1.   -0.41 -0.33 -0.58]\n",
      " [ 0.   -0.41  1.   -0.41  0.  ]\n",
      " [-0.58 -0.33 -0.41  1.    0.  ]\n",
      " [ 0.   -0.58  0.    0.    1.  ]]\n"
     ]
    }
   ],
   "source": [
    "A = nx.to_numpy_matrix(G, weight=1)\n",
    "L = nx.laplacian_matrix(G).todense()\n",
    "D = np.diag(np.diag(L))\n",
    "print(A)\n",
    "print(L)\n",
    "print(Lsym)\n",
    "Lsym = nx.normalized_laplacian_matrix(G).todense().round(2)"
   ]
  },
  {
   "cell_type": "code",
   "execution_count": 100,
   "metadata": {},
   "outputs": [
    {
     "data": {
      "text/plain": [
       "array([ 0.42, -0.32,  0.18, -0.32,  0.42])"
      ]
     },
     "execution_count": 100,
     "metadata": {},
     "output_type": "execute_result"
    }
   ],
   "source": []
  },
  {
   "cell_type": "code",
   "execution_count": 94,
   "metadata": {},
   "outputs": [
    {
     "name": "stdout",
     "output_type": "stream",
     "text": [
      "[[ 1.          0.          0.          0.          0.        ]\n",
      " [ 0.          0.33333333  0.          0.          0.        ]\n",
      " [ 0.          0.          0.5         0.          0.        ]\n",
      " [-0.         -0.         -0.          0.33333333 -0.        ]\n",
      " [ 0.          0.          0.          0.          1.        ]]\n",
      "[[ 1.          0.          0.         -0.57735027  0.        ]\n",
      " [ 0.          1.         -0.40824829 -0.33333333 -0.57735027]\n",
      " [ 0.         -0.40824829  1.         -0.40824829  0.        ]\n",
      " [-0.57735027 -0.33333333 -0.40824829  1.          0.        ]\n",
      " [ 0.         -0.57735027  0.          0.          1.        ]]\n",
      "\n"
     ]
    }
   ],
   "source": [
    "print(np.linalg.inv(D))\n",
    "print(np.sqrt(np.linalg.inv(D)) @ L @ np.sqrt(np.linalg.inv(D)))\n",
    "(np.linalg.inv(D) @ L).round(3)\n",
    "print()"
   ]
  },
  {
   "cell_type": "code",
   "execution_count": 45,
   "metadata": {},
   "outputs": [
    {
     "data": {
      "text/plain": [
       "matrix([[ 1,  0,  0, -1,  0],\n",
       "        [ 0,  3, -1, -1, -1],\n",
       "        [ 0, -1,  2, -1,  0],\n",
       "        [-1, -1, -1,  3,  0],\n",
       "        [ 0, -1,  0,  0,  1]], dtype=int64)"
      ]
     },
     "execution_count": 45,
     "metadata": {},
     "output_type": "execute_result"
    }
   ],
   "source": [
    "print(nx.laplacian_spectrum(G).round(2))\n",
    "plt.plot(nx.laplacian_spectrum(G))"
   ]
  },
  {
   "cell_type": "code",
   "execution_count": 111,
   "metadata": {},
   "outputs": [
    {
     "data": {
      "text/plain": [
       "array([[ 0.205,  0.195,  0.447,  0.512, -0.677],\n",
       "       [ 0.677, -0.512,  0.447, -0.195,  0.205],\n",
       "       [-0.   ,  0.632,  0.447, -0.632,  0.   ],\n",
       "       [-0.677, -0.512,  0.447, -0.195, -0.205],\n",
       "       [-0.205,  0.195,  0.447,  0.512,  0.677]])"
      ]
     },
     "execution_count": 111,
     "metadata": {},
     "output_type": "execute_result"
    }
   ],
   "source": [
    "eigvals, eigvects = (x.round(3) for x in np.linalg.eig(L))\n",
    "eigvals\n",
    "eigvects"
   ]
  },
  {
   "cell_type": "code",
   "execution_count": 113,
   "metadata": {},
   "outputs": [
    {
     "data": {
      "text/plain": [
       "<matplotlib.collections.PathCollection at 0xa18bad550>"
      ]
     },
     "execution_count": 113,
     "metadata": {},
     "output_type": "execute_result"
    },
    {
     "data": {
      "image/png": "[encoded data removed]",
      "text/plain": [
       "<Figure size 576x396 with 1 Axes>"
      ]
     },
     "metadata": {},
     "output_type": "display_data"
    }
   ],
   "source": [
    "plt.scatter(eigvects[:,0], eigvects[:,1] )"
   ]
  },
  {
   "cell_type": "code",
   "execution_count": null,
   "metadata": {},
   "outputs": [],
   "source": []
  }
 ],
 "metadata": {
  "kernelspec": {
   "display_name": "Python 3",
   "language": "python",
   "name": "python3"
  },
  "language_info": {
   "codemirror_mode": {
    "name": "ipython",
    "version": 3
   },
   "file_extension": ".py",
   "mimetype": "text/x-python",
   "name": "python",
   "nbconvert_exporter": "python",
   "pygments_lexer": "ipython3",
   "version": "3.6.7"
  }
 },
 "nbformat": 4,
 "nbformat_minor": 2
}
